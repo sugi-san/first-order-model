{
  "nbformat": 4,
  "nbformat_minor": 0,
  "metadata": {
    "accelerator": "GPU",
    "colab": {
      "name": "demo2_run",
      "provenance": [],
      "include_colab_link": true
    },
    "kernelspec": {
      "display_name": "Python 3",
      "language": "python",
      "name": "python3"
    },
    "language_info": {
      "codemirror_mode": {
        "name": "ipython",
        "version": 3
      },
      "file_extension": ".py",
      "mimetype": "text/x-python",
      "name": "python",
      "nbconvert_exporter": "python",
      "pygments_lexer": "ipython3",
      "version": "3.7.2"
    }
  },
  "cells": [
    {
      "cell_type": "markdown",
      "metadata": {
        "id": "view-in-github",
        "colab_type": "text"
      },
      "source": [
        "<a href=\"https://colab.research.google.com/github/cedro3/first-order-model/blob/master/demo2_run.ipynb\" target=\"_parent\"><img src=\"https://colab.research.google.com/assets/colab-badge.svg\" alt=\"Open In Colab\"/></a>"
      ]
    },
    {
      "cell_type": "markdown",
      "metadata": {
        "id": "V-JokWU-RD42"
      },
      "source": [
        "# First Order Motion Model DEMO"
      ]
    },
    {
      "cell_type": "markdown",
      "metadata": {
        "id": "Qhy8FXY4Oqu1"
      },
      "source": [
        "# セットアップ"
      ]
    },
    {
      "cell_type": "code",
      "metadata": {
        "id": "JfQeW_7vXH15"
      },
      "source": [
        "# github からコードを取得\n",
        "!git clone https://github.com/cedro3/first-order-model.git\n",
        "%cd first-order-model\n",
        "\n",
        "# サンプルデータのダウンロード\n",
        "! pip install --upgrade gdown\n",
        "import gdown\n",
        "gdown.download('https://drive.google.com/u/1/uc?id=1Rx_dJOot4VcofLslayyf49Vejc0-Q_t_', 'sample.zip', quiet=False)\n",
        "! unzip sample.zip"
      ],
      "execution_count": null,
      "outputs": []
    },
    {
      "cell_type": "markdown",
      "metadata": {
        "id": "t0ubfS5IPI5y"
      },
      "source": [
        "# コード本体"
      ]
    },
    {
      "cell_type": "code",
      "metadata": {
        "id": "mwd6aqLxYouZ"
      },
      "source": [
        "import imageio\n",
        "import numpy as np\n",
        "import matplotlib.pyplot as plt\n",
        "import matplotlib.animation as animation\n",
        "from skimage.transform import resize\n",
        "from IPython.display import HTML\n",
        "import warnings\n",
        "warnings.filterwarnings(\"ignore\")\n",
        "\n",
        "def display(source, driving, generated=None):\n",
        "    fig = plt.figure(figsize=(8 + 4 * (generated is not None), 6))\n",
        "\n",
        "    ims = []\n",
        "    for i in range(len(driving)):\n",
        "        cols = [source]\n",
        "        cols.append(driving[i])\n",
        "        if generated is not None:\n",
        "            cols.append(generated[i])\n",
        "        im = plt.imshow(np.concatenate(cols, axis=1), animated=True)\n",
        "        plt.axis('off')\n",
        "        ims.append([im])\n",
        "\n",
        "    ani = animation.ArtistAnimation(fig, ims, interval=33, repeat_delay=1000)\n",
        "    plt.close()\n",
        "    return ani"
      ],
      "execution_count": null,
      "outputs": []
    },
    {
      "cell_type": "markdown",
      "metadata": {
        "id": "7gyg153VPN9e"
      },
      "source": [
        "# 「モナリザ」の静止画を「トランプ大統領」の動画のように動かす"
      ]
    },
    {
      "cell_type": "code",
      "metadata": {
        "id": "QqbNp1KYZLwk"
      },
      "source": [
        "from demo import load_checkpoints\n",
        "from demo import make_animation\n",
        "from skimage import img_as_ubyte\n",
        "\n",
        "source_image = imageio.imread('./sample/05.png')\n",
        "driving_video = imageio.mimread('./sample/04.mp4')\n",
        "\n",
        "#Resize image and video to 256x256\n",
        "source_image = resize(source_image, (256, 256))[..., :3]\n",
        "driving_video = [resize(frame, (256, 256))[..., :3] for frame in driving_video]\n",
        "\n",
        "\n",
        "generator, kp_detector = load_checkpoints(config_path='config/vox-256.yaml', \n",
        "                            checkpoint_path='./sample/vox-cpk.pth.tar')\n",
        "\n",
        "predictions = make_animation(source_image, driving_video, generator, kp_detector, relative=True)\n",
        "\n",
        "HTML(display(source_image, driving_video, predictions).to_html5_video())"
      ],
      "execution_count": null,
      "outputs": []
    },
    {
      "cell_type": "markdown",
      "metadata": {
        "id": "D2qMOnNhsuoR"
      },
      "source": [
        "#オリジナル動画を使う"
      ]
    },
    {
      "cell_type": "code",
      "metadata": {
        "id": "gYTHzaP66JYl"
      },
      "source": [
        "# ABCニュースの動画からキャスターの顔部分だけを切り出し\n",
        "!ffmpeg -i ./sample/news.mp4 -ss 00:00:00.00 -t 00:00:10 -filter:v \"crop=200:200:550:80\" -async 1 result.mp4"
      ],
      "execution_count": null,
      "outputs": []
    },
    {
      "cell_type": "code",
      "metadata": {
        "id": "qikzoQYT_btJ"
      },
      "source": [
        "# result.mp4 を動画にして、5枚の静止画から生成動画のフレームを作成する\n",
        "from demo import load_checkpoints\n",
        "from demo import make_animation\n",
        "from skimage import img_as_ubyte\n",
        "\n",
        "s0 = resize(imageio.imread('./sample/pic0.png'), (256, 256))[..., :3]\n",
        "s1 = resize(imageio.imread('./sample/pic1.png'), (256, 256))[..., :3]\n",
        "s2 = resize(imageio.imread('./sample/pic2.png'), (256, 256))[..., :3]\n",
        "s3 = resize(imageio.imread('./sample/pic3.png'), (256, 256))[..., :3]\n",
        "s4 = resize(imageio.imread('./sample/pic4.png'), (256, 256))[..., :3]\n",
        "source_image = [s0, s1, s2, s3, s4]\n",
        "\n",
        "\n",
        "driving_video = imageio.mimread('./result.mp4')\n",
        "driving_video = [resize(frame, (256, 256))[..., :3] for frame in driving_video]\n",
        "\n",
        "generator, kp_detector = load_checkpoints(config_path='config/vox-256.yaml', \n",
        "                            checkpoint_path='./sample/vox-cpk.pth.tar')\n",
        "\n",
        "result = []\n",
        "for i in range(5):\n",
        "    predictions = make_animation(source_image[i], driving_video, generator, kp_detector, relative=True)\n",
        "    result.append(predictions)"
      ],
      "execution_count": null,
      "outputs": []
    },
    {
      "cell_type": "code",
      "metadata": {
        "id": "t_HQcMOlC6l7"
      },
      "source": [
        "# 5枚の静止画の生成動画と動画を連結します。\n",
        "from tqdm import trange\n",
        "fig = plt.figure(figsize=(12, 8))\n",
        "ims =[]\n",
        "for i in trange(len(result[0])):\n",
        "    x = np.concatenate([result[0][i], result[1][i], result[2][i]],1)\n",
        "    y = np.concatenate([result[3][i], driving_video[i], result[4][i]],1)\n",
        "    z = np.concatenate([x, y])\n",
        "    im = plt.imshow(z, animated=True)\n",
        "    plt.axis('off')\n",
        "    ims.append([im])\n",
        "\n",
        "print('making animeation...')\n",
        "ani = animation.ArtistAnimation(fig, ims, interval=33, repeat_delay=1000)\n",
        "plt.close()\n",
        "HTML(ani.to_html5_video())"
      ],
      "execution_count": null,
      "outputs": []
    },
    {
      "cell_type": "markdown",
      "metadata": {
        "id": "3gpMN8Z4suoT"
      },
      "source": [
        "＊作成した動画とresult.mp4をダウンロードし、Quicktimeなどを使ってrsult.mp4の音声を取り出して作成した動画に追加して下さい。"
      ]
    }
  ]
}
